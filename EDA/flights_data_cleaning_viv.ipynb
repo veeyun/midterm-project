{
 "cells": [
  {
   "cell_type": "code",
   "execution_count": 251,
   "id": "74652fc0-9b60-4321-8ca7-a14d2d74b7c0",
   "metadata": {},
   "outputs": [],
   "source": [
    "import pandas as pd\n",
    "import numpy as np\n",
    "import matplotlib.pyplot as plt\n",
    "import seaborn as sns\n",
    "from datetime import datetime, date, time\n",
    "import plotly.graph_objects as go\n",
    "import plotly.express as px\n",
    "%matplotlib inline\n",
    "import scipy.stats as st"
   ]
  },
  {
   "cell_type": "markdown",
   "id": "a540c0b6-1e54-4b1d-b120-78fd73cebf90",
   "metadata": {},
   "source": [
    "# Flights\n",
    "### Data Cleaning"
   ]
  },
  {
   "cell_type": "code",
   "execution_count": 411,
   "id": "b474516a-7bb6-4552-bed8-7a7f17a310e8",
   "metadata": {},
   "outputs": [
    {
     "data": {
      "text/html": [
       "<div>\n",
       "<style scoped>\n",
       "    .dataframe tbody tr th:only-of-type {\n",
       "        vertical-align: middle;\n",
       "    }\n",
       "\n",
       "    .dataframe tbody tr th {\n",
       "        vertical-align: top;\n",
       "    }\n",
       "\n",
       "    .dataframe thead th {\n",
       "        text-align: right;\n",
       "    }\n",
       "</style>\n",
       "<table border=\"1\" class=\"dataframe\">\n",
       "  <thead>\n",
       "    <tr style=\"text-align: right;\">\n",
       "      <th></th>\n",
       "      <th>fl_date</th>\n",
       "      <th>mkt_unique_carrier</th>\n",
       "      <th>branded_code_share</th>\n",
       "      <th>mkt_carrier</th>\n",
       "      <th>mkt_carrier_fl_num</th>\n",
       "      <th>op_unique_carrier</th>\n",
       "      <th>tail_num</th>\n",
       "      <th>op_carrier_fl_num</th>\n",
       "      <th>origin_airport_id</th>\n",
       "      <th>origin</th>\n",
       "      <th>...</th>\n",
       "      <th>distance</th>\n",
       "      <th>carrier_delay</th>\n",
       "      <th>weather_delay</th>\n",
       "      <th>nas_delay</th>\n",
       "      <th>security_delay</th>\n",
       "      <th>late_aircraft_delay</th>\n",
       "      <th>first_dep_time</th>\n",
       "      <th>total_add_gtime</th>\n",
       "      <th>longest_add_gtime</th>\n",
       "      <th>no_name</th>\n",
       "    </tr>\n",
       "  </thead>\n",
       "  <tbody>\n",
       "    <tr>\n",
       "      <th>0</th>\n",
       "      <td>2018-05-31</td>\n",
       "      <td>WN</td>\n",
       "      <td>WN</td>\n",
       "      <td>WN</td>\n",
       "      <td>2081</td>\n",
       "      <td>WN</td>\n",
       "      <td>N402WN</td>\n",
       "      <td>2081</td>\n",
       "      <td>10800</td>\n",
       "      <td>BUR</td>\n",
       "      <td>...</td>\n",
       "      <td>326</td>\n",
       "      <td>0.0</td>\n",
       "      <td>0.0</td>\n",
       "      <td>51.0</td>\n",
       "      <td>0.0</td>\n",
       "      <td>0.0</td>\n",
       "      <td>NaN</td>\n",
       "      <td>NaN</td>\n",
       "      <td>NaN</td>\n",
       "      <td>NaN</td>\n",
       "    </tr>\n",
       "    <tr>\n",
       "      <th>1</th>\n",
       "      <td>2019-04-20</td>\n",
       "      <td>AA</td>\n",
       "      <td>AA</td>\n",
       "      <td>AA</td>\n",
       "      <td>2244</td>\n",
       "      <td>AA</td>\n",
       "      <td>N895NN</td>\n",
       "      <td>2244</td>\n",
       "      <td>13930</td>\n",
       "      <td>ORD</td>\n",
       "      <td>...</td>\n",
       "      <td>801</td>\n",
       "      <td>NaN</td>\n",
       "      <td>NaN</td>\n",
       "      <td>NaN</td>\n",
       "      <td>NaN</td>\n",
       "      <td>NaN</td>\n",
       "      <td>NaN</td>\n",
       "      <td>NaN</td>\n",
       "      <td>NaN</td>\n",
       "      <td>NaN</td>\n",
       "    </tr>\n",
       "    <tr>\n",
       "      <th>2</th>\n",
       "      <td>2019-02-13</td>\n",
       "      <td>WN</td>\n",
       "      <td>WN</td>\n",
       "      <td>WN</td>\n",
       "      <td>1731</td>\n",
       "      <td>WN</td>\n",
       "      <td>N8507C</td>\n",
       "      <td>1731</td>\n",
       "      <td>13495</td>\n",
       "      <td>MSY</td>\n",
       "      <td>...</td>\n",
       "      <td>302</td>\n",
       "      <td>0.0</td>\n",
       "      <td>0.0</td>\n",
       "      <td>0.0</td>\n",
       "      <td>0.0</td>\n",
       "      <td>18.0</td>\n",
       "      <td>NaN</td>\n",
       "      <td>NaN</td>\n",
       "      <td>NaN</td>\n",
       "      <td>NaN</td>\n",
       "    </tr>\n",
       "    <tr>\n",
       "      <th>3</th>\n",
       "      <td>2018-11-20</td>\n",
       "      <td>AA</td>\n",
       "      <td>AA</td>\n",
       "      <td>AA</td>\n",
       "      <td>2620</td>\n",
       "      <td>AA</td>\n",
       "      <td>N961AN</td>\n",
       "      <td>2620</td>\n",
       "      <td>11298</td>\n",
       "      <td>DFW</td>\n",
       "      <td>...</td>\n",
       "      <td>761</td>\n",
       "      <td>NaN</td>\n",
       "      <td>NaN</td>\n",
       "      <td>NaN</td>\n",
       "      <td>NaN</td>\n",
       "      <td>NaN</td>\n",
       "      <td>NaN</td>\n",
       "      <td>NaN</td>\n",
       "      <td>NaN</td>\n",
       "      <td>NaN</td>\n",
       "    </tr>\n",
       "    <tr>\n",
       "      <th>4</th>\n",
       "      <td>2018-08-28</td>\n",
       "      <td>DL</td>\n",
       "      <td>DL_CODESHARE</td>\n",
       "      <td>DL</td>\n",
       "      <td>4060</td>\n",
       "      <td>9E</td>\n",
       "      <td>N833AY</td>\n",
       "      <td>4060</td>\n",
       "      <td>12478</td>\n",
       "      <td>JFK</td>\n",
       "      <td>...</td>\n",
       "      <td>228</td>\n",
       "      <td>NaN</td>\n",
       "      <td>NaN</td>\n",
       "      <td>NaN</td>\n",
       "      <td>NaN</td>\n",
       "      <td>NaN</td>\n",
       "      <td>NaN</td>\n",
       "      <td>NaN</td>\n",
       "      <td>NaN</td>\n",
       "      <td>NaN</td>\n",
       "    </tr>\n",
       "  </tbody>\n",
       "</table>\n",
       "<p>5 rows × 42 columns</p>\n",
       "</div>"
      ],
      "text/plain": [
       "      fl_date mkt_unique_carrier branded_code_share mkt_carrier  \\\n",
       "0  2018-05-31                 WN                 WN          WN   \n",
       "1  2019-04-20                 AA                 AA          AA   \n",
       "2  2019-02-13                 WN                 WN          WN   \n",
       "3  2018-11-20                 AA                 AA          AA   \n",
       "4  2018-08-28                 DL       DL_CODESHARE          DL   \n",
       "\n",
       "   mkt_carrier_fl_num op_unique_carrier tail_num  op_carrier_fl_num  \\\n",
       "0                2081                WN   N402WN               2081   \n",
       "1                2244                AA   N895NN               2244   \n",
       "2                1731                WN   N8507C               1731   \n",
       "3                2620                AA   N961AN               2620   \n",
       "4                4060                9E   N833AY               4060   \n",
       "\n",
       "   origin_airport_id origin  ... distance  carrier_delay weather_delay  \\\n",
       "0              10800    BUR  ...      326            0.0           0.0   \n",
       "1              13930    ORD  ...      801            NaN           NaN   \n",
       "2              13495    MSY  ...      302            0.0           0.0   \n",
       "3              11298    DFW  ...      761            NaN           NaN   \n",
       "4              12478    JFK  ...      228            NaN           NaN   \n",
       "\n",
       "  nas_delay  security_delay  late_aircraft_delay  first_dep_time  \\\n",
       "0      51.0             0.0                  0.0             NaN   \n",
       "1       NaN             NaN                  NaN             NaN   \n",
       "2       0.0             0.0                 18.0             NaN   \n",
       "3       NaN             NaN                  NaN             NaN   \n",
       "4       NaN             NaN                  NaN             NaN   \n",
       "\n",
       "   total_add_gtime  longest_add_gtime  no_name  \n",
       "0              NaN                NaN      NaN  \n",
       "1              NaN                NaN      NaN  \n",
       "2              NaN                NaN      NaN  \n",
       "3              NaN                NaN      NaN  \n",
       "4              NaN                NaN      NaN  \n",
       "\n",
       "[5 rows x 42 columns]"
      ]
     },
     "execution_count": 411,
     "metadata": {},
     "output_type": "execute_result"
    }
   ],
   "source": [
    "df_flights = pd.read_csv('data/flights.csv')\n",
    "df_flights.head()"
   ]
  },
  {
   "cell_type": "code",
   "execution_count": 412,
   "id": "d51d3996-eff1-44a4-b668-1beed295001c",
   "metadata": {},
   "outputs": [
    {
     "data": {
      "text/plain": [
       "(200000, 42)"
      ]
     },
     "execution_count": 412,
     "metadata": {},
     "output_type": "execute_result"
    }
   ],
   "source": [
    "df_flights.shape"
   ]
  },
  {
   "cell_type": "code",
   "execution_count": 413,
   "id": "8fbedd4b-a5b6-4362-9b29-e8fc9b89f7a8",
   "metadata": {},
   "outputs": [
    {
     "name": "stdout",
     "output_type": "stream",
     "text": [
      "<class 'pandas.core.frame.DataFrame'>\n",
      "RangeIndex: 200000 entries, 0 to 199999\n",
      "Data columns (total 42 columns):\n",
      " #   Column               Non-Null Count   Dtype  \n",
      "---  ------               --------------   -----  \n",
      " 0   fl_date              200000 non-null  object \n",
      " 1   mkt_unique_carrier   200000 non-null  object \n",
      " 2   branded_code_share   200000 non-null  object \n",
      " 3   mkt_carrier          200000 non-null  object \n",
      " 4   mkt_carrier_fl_num   200000 non-null  int64  \n",
      " 5   op_unique_carrier    200000 non-null  object \n",
      " 6   tail_num             199399 non-null  object \n",
      " 7   op_carrier_fl_num    200000 non-null  int64  \n",
      " 8   origin_airport_id    200000 non-null  int64  \n",
      " 9   origin               200000 non-null  object \n",
      " 10  origin_city_name     200000 non-null  object \n",
      " 11  dest_airport_id      200000 non-null  int64  \n",
      " 12  dest                 200000 non-null  object \n",
      " 13  dest_city_name       200000 non-null  object \n",
      " 14  crs_dep_time         200000 non-null  int64  \n",
      " 15  dep_time             196767 non-null  float64\n",
      " 16  dep_delay            196717 non-null  float64\n",
      " 17  taxi_out             196576 non-null  float64\n",
      " 18  wheels_off           196576 non-null  float64\n",
      " 19  wheels_on            196496 non-null  float64\n",
      " 20  taxi_in              196496 non-null  float64\n",
      " 21  crs_arr_time         200000 non-null  int64  \n",
      " 22  arr_time             196578 non-null  float64\n",
      " 23  arr_delay            196160 non-null  float64\n",
      " 24  cancelled            200000 non-null  int64  \n",
      " 25  cancellation_code    3367 non-null    object \n",
      " 26  diverted             200000 non-null  int64  \n",
      " 27  dup                  200000 non-null  object \n",
      " 28  crs_elapsed_time     200000 non-null  int64  \n",
      " 29  actual_elapsed_time  196193 non-null  float64\n",
      " 30  air_time             196111 non-null  float64\n",
      " 31  flights              200000 non-null  int64  \n",
      " 32  distance             200000 non-null  int64  \n",
      " 33  carrier_delay        37803 non-null   float64\n",
      " 34  weather_delay        37803 non-null   float64\n",
      " 35  nas_delay            37803 non-null   float64\n",
      " 36  security_delay       37803 non-null   float64\n",
      " 37  late_aircraft_delay  37803 non-null   float64\n",
      " 38  first_dep_time       1378 non-null    float64\n",
      " 39  total_add_gtime      1378 non-null    float64\n",
      " 40  longest_add_gtime    1378 non-null    float64\n",
      " 41  no_name              0 non-null       float64\n",
      "dtypes: float64(19), int64(11), object(12)\n",
      "memory usage: 64.1+ MB\n"
     ]
    }
   ],
   "source": [
    "df_flights.info()"
   ]
  },
  {
   "cell_type": "code",
   "execution_count": 414,
   "id": "d24e5aad-7409-4cf7-a146-49c93b967b8f",
   "metadata": {},
   "outputs": [
    {
     "data": {
      "text/plain": [
       "fl_date                 730\n",
       "mkt_unique_carrier       11\n",
       "branded_code_share       16\n",
       "mkt_carrier              11\n",
       "mkt_carrier_fl_num     6857\n",
       "op_unique_carrier        28\n",
       "tail_num               6301\n",
       "op_carrier_fl_num      6861\n",
       "origin_airport_id       372\n",
       "origin                  372\n",
       "origin_city_name        364\n",
       "dest_airport_id         373\n",
       "dest                    373\n",
       "dest_city_name          366\n",
       "crs_dep_time           1297\n",
       "dep_time               1381\n",
       "dep_delay               707\n",
       "taxi_out                152\n",
       "wheels_off             1387\n",
       "wheels_on              1432\n",
       "taxi_in                 125\n",
       "crs_arr_time           1372\n",
       "arr_time               1437\n",
       "arr_delay               746\n",
       "cancelled                 2\n",
       "cancellation_code         3\n",
       "diverted                  2\n",
       "dup                       1\n",
       "crs_elapsed_time        521\n",
       "actual_elapsed_time     550\n",
       "air_time                525\n",
       "flights                   1\n",
       "distance               1562\n",
       "carrier_delay           535\n",
       "weather_delay           294\n",
       "nas_delay               346\n",
       "security_delay           56\n",
       "late_aircraft_delay     402\n",
       "first_dep_time          783\n",
       "total_add_gtime         165\n",
       "longest_add_gtime       162\n",
       "no_name                   0\n",
       "dtype: int64"
      ]
     },
     "execution_count": 414,
     "metadata": {},
     "output_type": "execute_result"
    }
   ],
   "source": [
    "df_flights.nunique()"
   ]
  },
  {
   "cell_type": "code",
   "execution_count": 415,
   "id": "c5a0c38a-c720-469a-9f89-2ed0ea0a43c5",
   "metadata": {},
   "outputs": [
    {
     "data": {
      "text/html": [
       "<div>\n",
       "<style scoped>\n",
       "    .dataframe tbody tr th:only-of-type {\n",
       "        vertical-align: middle;\n",
       "    }\n",
       "\n",
       "    .dataframe tbody tr th {\n",
       "        vertical-align: top;\n",
       "    }\n",
       "\n",
       "    .dataframe thead th {\n",
       "        text-align: right;\n",
       "    }\n",
       "</style>\n",
       "<table border=\"1\" class=\"dataframe\">\n",
       "  <thead>\n",
       "    <tr style=\"text-align: right;\">\n",
       "      <th></th>\n",
       "      <th>mkt_carrier_fl_num</th>\n",
       "      <th>op_carrier_fl_num</th>\n",
       "      <th>origin_airport_id</th>\n",
       "      <th>dest_airport_id</th>\n",
       "      <th>crs_dep_time</th>\n",
       "      <th>dep_time</th>\n",
       "      <th>dep_delay</th>\n",
       "      <th>taxi_out</th>\n",
       "      <th>wheels_off</th>\n",
       "      <th>wheels_on</th>\n",
       "      <th>...</th>\n",
       "      <th>distance</th>\n",
       "      <th>carrier_delay</th>\n",
       "      <th>weather_delay</th>\n",
       "      <th>nas_delay</th>\n",
       "      <th>security_delay</th>\n",
       "      <th>late_aircraft_delay</th>\n",
       "      <th>first_dep_time</th>\n",
       "      <th>total_add_gtime</th>\n",
       "      <th>longest_add_gtime</th>\n",
       "      <th>no_name</th>\n",
       "    </tr>\n",
       "  </thead>\n",
       "  <tbody>\n",
       "    <tr>\n",
       "      <th>count</th>\n",
       "      <td>200000.000000</td>\n",
       "      <td>200000.000000</td>\n",
       "      <td>200000.000000</td>\n",
       "      <td>200000.000000</td>\n",
       "      <td>200000.000000</td>\n",
       "      <td>196767.000000</td>\n",
       "      <td>196717.000000</td>\n",
       "      <td>196576.000000</td>\n",
       "      <td>196576.000000</td>\n",
       "      <td>196496.000000</td>\n",
       "      <td>...</td>\n",
       "      <td>200000.000000</td>\n",
       "      <td>37803.000000</td>\n",
       "      <td>37803.000000</td>\n",
       "      <td>37803.000000</td>\n",
       "      <td>37803.000000</td>\n",
       "      <td>37803.000000</td>\n",
       "      <td>1378.000000</td>\n",
       "      <td>1378.000000</td>\n",
       "      <td>1378.000000</td>\n",
       "      <td>0.0</td>\n",
       "    </tr>\n",
       "    <tr>\n",
       "      <th>mean</th>\n",
       "      <td>2735.501405</td>\n",
       "      <td>2735.466465</td>\n",
       "      <td>12681.792960</td>\n",
       "      <td>12681.283465</td>\n",
       "      <td>1329.486130</td>\n",
       "      <td>1334.249752</td>\n",
       "      <td>10.669785</td>\n",
       "      <td>17.534292</td>\n",
       "      <td>1358.429773</td>\n",
       "      <td>1458.555278</td>\n",
       "      <td>...</td>\n",
       "      <td>767.843470</td>\n",
       "      <td>21.129566</td>\n",
       "      <td>3.820014</td>\n",
       "      <td>16.307330</td>\n",
       "      <td>0.078010</td>\n",
       "      <td>26.893104</td>\n",
       "      <td>1317.363570</td>\n",
       "      <td>41.957910</td>\n",
       "      <td>41.018868</td>\n",
       "      <td>NaN</td>\n",
       "    </tr>\n",
       "    <tr>\n",
       "      <th>std</th>\n",
       "      <td>1864.137816</td>\n",
       "      <td>1864.243219</td>\n",
       "      <td>1524.816624</td>\n",
       "      <td>1523.072185</td>\n",
       "      <td>489.735055</td>\n",
       "      <td>503.468605</td>\n",
       "      <td>49.146377</td>\n",
       "      <td>10.027231</td>\n",
       "      <td>505.074789</td>\n",
       "      <td>532.888643</td>\n",
       "      <td>...</td>\n",
       "      <td>584.542139</td>\n",
       "      <td>68.794998</td>\n",
       "      <td>33.281468</td>\n",
       "      <td>38.000328</td>\n",
       "      <td>2.032674</td>\n",
       "      <td>50.846726</td>\n",
       "      <td>502.568506</td>\n",
       "      <td>38.372231</td>\n",
       "      <td>36.256104</td>\n",
       "      <td>NaN</td>\n",
       "    </tr>\n",
       "    <tr>\n",
       "      <th>min</th>\n",
       "      <td>1.000000</td>\n",
       "      <td>1.000000</td>\n",
       "      <td>10135.000000</td>\n",
       "      <td>10135.000000</td>\n",
       "      <td>1.000000</td>\n",
       "      <td>1.000000</td>\n",
       "      <td>-41.000000</td>\n",
       "      <td>0.000000</td>\n",
       "      <td>1.000000</td>\n",
       "      <td>1.000000</td>\n",
       "      <td>...</td>\n",
       "      <td>31.000000</td>\n",
       "      <td>0.000000</td>\n",
       "      <td>0.000000</td>\n",
       "      <td>0.000000</td>\n",
       "      <td>0.000000</td>\n",
       "      <td>0.000000</td>\n",
       "      <td>16.000000</td>\n",
       "      <td>1.000000</td>\n",
       "      <td>1.000000</td>\n",
       "      <td>NaN</td>\n",
       "    </tr>\n",
       "    <tr>\n",
       "      <th>25%</th>\n",
       "      <td>1123.000000</td>\n",
       "      <td>1123.000000</td>\n",
       "      <td>11292.000000</td>\n",
       "      <td>11292.000000</td>\n",
       "      <td>915.000000</td>\n",
       "      <td>917.000000</td>\n",
       "      <td>-6.000000</td>\n",
       "      <td>11.000000</td>\n",
       "      <td>933.000000</td>\n",
       "      <td>1044.000000</td>\n",
       "      <td>...</td>\n",
       "      <td>339.000000</td>\n",
       "      <td>0.000000</td>\n",
       "      <td>0.000000</td>\n",
       "      <td>0.000000</td>\n",
       "      <td>0.000000</td>\n",
       "      <td>0.000000</td>\n",
       "      <td>848.000000</td>\n",
       "      <td>18.000000</td>\n",
       "      <td>18.000000</td>\n",
       "      <td>NaN</td>\n",
       "    </tr>\n",
       "    <tr>\n",
       "      <th>50%</th>\n",
       "      <td>2318.000000</td>\n",
       "      <td>2318.000000</td>\n",
       "      <td>12889.000000</td>\n",
       "      <td>12889.000000</td>\n",
       "      <td>1321.000000</td>\n",
       "      <td>1327.000000</td>\n",
       "      <td>-2.000000</td>\n",
       "      <td>15.000000</td>\n",
       "      <td>1340.000000</td>\n",
       "      <td>1459.000000</td>\n",
       "      <td>...</td>\n",
       "      <td>604.000000</td>\n",
       "      <td>0.000000</td>\n",
       "      <td>0.000000</td>\n",
       "      <td>3.000000</td>\n",
       "      <td>0.000000</td>\n",
       "      <td>3.000000</td>\n",
       "      <td>1335.000000</td>\n",
       "      <td>30.000000</td>\n",
       "      <td>30.000000</td>\n",
       "      <td>NaN</td>\n",
       "    </tr>\n",
       "    <tr>\n",
       "      <th>75%</th>\n",
       "      <td>4332.000000</td>\n",
       "      <td>4332.000000</td>\n",
       "      <td>14057.000000</td>\n",
       "      <td>14057.000000</td>\n",
       "      <td>1735.000000</td>\n",
       "      <td>1743.000000</td>\n",
       "      <td>7.000000</td>\n",
       "      <td>20.000000</td>\n",
       "      <td>1758.000000</td>\n",
       "      <td>1908.000000</td>\n",
       "      <td>...</td>\n",
       "      <td>1005.000000</td>\n",
       "      <td>18.000000</td>\n",
       "      <td>0.000000</td>\n",
       "      <td>19.000000</td>\n",
       "      <td>0.000000</td>\n",
       "      <td>33.000000</td>\n",
       "      <td>1728.750000</td>\n",
       "      <td>52.000000</td>\n",
       "      <td>51.000000</td>\n",
       "      <td>NaN</td>\n",
       "    </tr>\n",
       "    <tr>\n",
       "      <th>max</th>\n",
       "      <td>9390.000000</td>\n",
       "      <td>9390.000000</td>\n",
       "      <td>16869.000000</td>\n",
       "      <td>16869.000000</td>\n",
       "      <td>2359.000000</td>\n",
       "      <td>2400.000000</td>\n",
       "      <td>1522.000000</td>\n",
       "      <td>172.000000</td>\n",
       "      <td>2400.000000</td>\n",
       "      <td>2400.000000</td>\n",
       "      <td>...</td>\n",
       "      <td>5095.000000</td>\n",
       "      <td>1500.000000</td>\n",
       "      <td>1280.000000</td>\n",
       "      <td>1186.000000</td>\n",
       "      <td>139.000000</td>\n",
       "      <td>1189.000000</td>\n",
       "      <td>2359.000000</td>\n",
       "      <td>319.000000</td>\n",
       "      <td>221.000000</td>\n",
       "      <td>NaN</td>\n",
       "    </tr>\n",
       "  </tbody>\n",
       "</table>\n",
       "<p>8 rows × 30 columns</p>\n",
       "</div>"
      ],
      "text/plain": [
       "       mkt_carrier_fl_num  op_carrier_fl_num  origin_airport_id  \\\n",
       "count       200000.000000      200000.000000      200000.000000   \n",
       "mean          2735.501405        2735.466465       12681.792960   \n",
       "std           1864.137816        1864.243219        1524.816624   \n",
       "min              1.000000           1.000000       10135.000000   \n",
       "25%           1123.000000        1123.000000       11292.000000   \n",
       "50%           2318.000000        2318.000000       12889.000000   \n",
       "75%           4332.000000        4332.000000       14057.000000   \n",
       "max           9390.000000        9390.000000       16869.000000   \n",
       "\n",
       "       dest_airport_id   crs_dep_time       dep_time      dep_delay  \\\n",
       "count    200000.000000  200000.000000  196767.000000  196717.000000   \n",
       "mean      12681.283465    1329.486130    1334.249752      10.669785   \n",
       "std        1523.072185     489.735055     503.468605      49.146377   \n",
       "min       10135.000000       1.000000       1.000000     -41.000000   \n",
       "25%       11292.000000     915.000000     917.000000      -6.000000   \n",
       "50%       12889.000000    1321.000000    1327.000000      -2.000000   \n",
       "75%       14057.000000    1735.000000    1743.000000       7.000000   \n",
       "max       16869.000000    2359.000000    2400.000000    1522.000000   \n",
       "\n",
       "            taxi_out     wheels_off      wheels_on  ...       distance  \\\n",
       "count  196576.000000  196576.000000  196496.000000  ...  200000.000000   \n",
       "mean       17.534292    1358.429773    1458.555278  ...     767.843470   \n",
       "std        10.027231     505.074789     532.888643  ...     584.542139   \n",
       "min         0.000000       1.000000       1.000000  ...      31.000000   \n",
       "25%        11.000000     933.000000    1044.000000  ...     339.000000   \n",
       "50%        15.000000    1340.000000    1459.000000  ...     604.000000   \n",
       "75%        20.000000    1758.000000    1908.000000  ...    1005.000000   \n",
       "max       172.000000    2400.000000    2400.000000  ...    5095.000000   \n",
       "\n",
       "       carrier_delay  weather_delay     nas_delay  security_delay  \\\n",
       "count   37803.000000   37803.000000  37803.000000    37803.000000   \n",
       "mean       21.129566       3.820014     16.307330        0.078010   \n",
       "std        68.794998      33.281468     38.000328        2.032674   \n",
       "min         0.000000       0.000000      0.000000        0.000000   \n",
       "25%         0.000000       0.000000      0.000000        0.000000   \n",
       "50%         0.000000       0.000000      3.000000        0.000000   \n",
       "75%        18.000000       0.000000     19.000000        0.000000   \n",
       "max      1500.000000    1280.000000   1186.000000      139.000000   \n",
       "\n",
       "       late_aircraft_delay  first_dep_time  total_add_gtime  \\\n",
       "count         37803.000000     1378.000000      1378.000000   \n",
       "mean             26.893104     1317.363570        41.957910   \n",
       "std              50.846726      502.568506        38.372231   \n",
       "min               0.000000       16.000000         1.000000   \n",
       "25%               0.000000      848.000000        18.000000   \n",
       "50%               3.000000     1335.000000        30.000000   \n",
       "75%              33.000000     1728.750000        52.000000   \n",
       "max            1189.000000     2359.000000       319.000000   \n",
       "\n",
       "       longest_add_gtime  no_name  \n",
       "count        1378.000000      0.0  \n",
       "mean           41.018868      NaN  \n",
       "std            36.256104      NaN  \n",
       "min             1.000000      NaN  \n",
       "25%            18.000000      NaN  \n",
       "50%            30.000000      NaN  \n",
       "75%            51.000000      NaN  \n",
       "max           221.000000      NaN  \n",
       "\n",
       "[8 rows x 30 columns]"
      ]
     },
     "execution_count": 415,
     "metadata": {},
     "output_type": "execute_result"
    }
   ],
   "source": [
    "df_flights.describe()"
   ]
  },
  {
   "cell_type": "code",
   "execution_count": 416,
   "id": "134f0fdd-0675-4f13-b1a9-29d5c6ba3003",
   "metadata": {},
   "outputs": [
    {
     "data": {
      "text/html": [
       "<div>\n",
       "<style scoped>\n",
       "    .dataframe tbody tr th:only-of-type {\n",
       "        vertical-align: middle;\n",
       "    }\n",
       "\n",
       "    .dataframe tbody tr th {\n",
       "        vertical-align: top;\n",
       "    }\n",
       "\n",
       "    .dataframe thead th {\n",
       "        text-align: right;\n",
       "    }\n",
       "</style>\n",
       "<table border=\"1\" class=\"dataframe\">\n",
       "  <thead>\n",
       "    <tr style=\"text-align: right;\">\n",
       "      <th></th>\n",
       "      <th>dep_time</th>\n",
       "      <th>dep_delay</th>\n",
       "      <th>carrier_delay</th>\n",
       "      <th>weather_delay</th>\n",
       "      <th>nas_delay</th>\n",
       "      <th>security_delay</th>\n",
       "      <th>late_aircraft_delay</th>\n",
       "    </tr>\n",
       "  </thead>\n",
       "  <tbody>\n",
       "    <tr>\n",
       "      <th>0</th>\n",
       "      <td>1138.0</td>\n",
       "      <td>38.0</td>\n",
       "      <td>0.0</td>\n",
       "      <td>0.0</td>\n",
       "      <td>51.0</td>\n",
       "      <td>0.0</td>\n",
       "      <td>0.0</td>\n",
       "    </tr>\n",
       "    <tr>\n",
       "      <th>1</th>\n",
       "      <td>1303.0</td>\n",
       "      <td>-8.0</td>\n",
       "      <td>NaN</td>\n",
       "      <td>NaN</td>\n",
       "      <td>NaN</td>\n",
       "      <td>NaN</td>\n",
       "      <td>NaN</td>\n",
       "    </tr>\n",
       "    <tr>\n",
       "      <th>2</th>\n",
       "      <td>2159.0</td>\n",
       "      <td>29.0</td>\n",
       "      <td>0.0</td>\n",
       "      <td>0.0</td>\n",
       "      <td>0.0</td>\n",
       "      <td>0.0</td>\n",
       "      <td>18.0</td>\n",
       "    </tr>\n",
       "    <tr>\n",
       "      <th>3</th>\n",
       "      <td>1833.0</td>\n",
       "      <td>-1.0</td>\n",
       "      <td>NaN</td>\n",
       "      <td>NaN</td>\n",
       "      <td>NaN</td>\n",
       "      <td>NaN</td>\n",
       "      <td>NaN</td>\n",
       "    </tr>\n",
       "    <tr>\n",
       "      <th>4</th>\n",
       "      <td>1353.0</td>\n",
       "      <td>-6.0</td>\n",
       "      <td>NaN</td>\n",
       "      <td>NaN</td>\n",
       "      <td>NaN</td>\n",
       "      <td>NaN</td>\n",
       "      <td>NaN</td>\n",
       "    </tr>\n",
       "    <tr>\n",
       "      <th>...</th>\n",
       "      <td>...</td>\n",
       "      <td>...</td>\n",
       "      <td>...</td>\n",
       "      <td>...</td>\n",
       "      <td>...</td>\n",
       "      <td>...</td>\n",
       "      <td>...</td>\n",
       "    </tr>\n",
       "    <tr>\n",
       "      <th>199995</th>\n",
       "      <td>1726.0</td>\n",
       "      <td>-9.0</td>\n",
       "      <td>NaN</td>\n",
       "      <td>NaN</td>\n",
       "      <td>NaN</td>\n",
       "      <td>NaN</td>\n",
       "      <td>NaN</td>\n",
       "    </tr>\n",
       "    <tr>\n",
       "      <th>199996</th>\n",
       "      <td>1602.0</td>\n",
       "      <td>27.0</td>\n",
       "      <td>10.0</td>\n",
       "      <td>0.0</td>\n",
       "      <td>85.0</td>\n",
       "      <td>0.0</td>\n",
       "      <td>17.0</td>\n",
       "    </tr>\n",
       "    <tr>\n",
       "      <th>199997</th>\n",
       "      <td>836.0</td>\n",
       "      <td>-9.0</td>\n",
       "      <td>NaN</td>\n",
       "      <td>NaN</td>\n",
       "      <td>NaN</td>\n",
       "      <td>NaN</td>\n",
       "      <td>NaN</td>\n",
       "    </tr>\n",
       "    <tr>\n",
       "      <th>199998</th>\n",
       "      <td>807.0</td>\n",
       "      <td>-3.0</td>\n",
       "      <td>0.0</td>\n",
       "      <td>0.0</td>\n",
       "      <td>20.0</td>\n",
       "      <td>0.0</td>\n",
       "      <td>0.0</td>\n",
       "    </tr>\n",
       "    <tr>\n",
       "      <th>199999</th>\n",
       "      <td>2038.0</td>\n",
       "      <td>48.0</td>\n",
       "      <td>0.0</td>\n",
       "      <td>0.0</td>\n",
       "      <td>0.0</td>\n",
       "      <td>0.0</td>\n",
       "      <td>31.0</td>\n",
       "    </tr>\n",
       "  </tbody>\n",
       "</table>\n",
       "<p>200000 rows × 7 columns</p>\n",
       "</div>"
      ],
      "text/plain": [
       "        dep_time  dep_delay  carrier_delay  weather_delay  nas_delay  \\\n",
       "0         1138.0       38.0            0.0            0.0       51.0   \n",
       "1         1303.0       -8.0            NaN            NaN        NaN   \n",
       "2         2159.0       29.0            0.0            0.0        0.0   \n",
       "3         1833.0       -1.0            NaN            NaN        NaN   \n",
       "4         1353.0       -6.0            NaN            NaN        NaN   \n",
       "...          ...        ...            ...            ...        ...   \n",
       "199995    1726.0       -9.0            NaN            NaN        NaN   \n",
       "199996    1602.0       27.0           10.0            0.0       85.0   \n",
       "199997     836.0       -9.0            NaN            NaN        NaN   \n",
       "199998     807.0       -3.0            0.0            0.0       20.0   \n",
       "199999    2038.0       48.0            0.0            0.0        0.0   \n",
       "\n",
       "        security_delay  late_aircraft_delay  \n",
       "0                  0.0                  0.0  \n",
       "1                  NaN                  NaN  \n",
       "2                  0.0                 18.0  \n",
       "3                  NaN                  NaN  \n",
       "4                  NaN                  NaN  \n",
       "...                ...                  ...  \n",
       "199995             NaN                  NaN  \n",
       "199996             0.0                 17.0  \n",
       "199997             NaN                  NaN  \n",
       "199998             0.0                  0.0  \n",
       "199999             0.0                 31.0  \n",
       "\n",
       "[200000 rows x 7 columns]"
      ]
     },
     "execution_count": 416,
     "metadata": {},
     "output_type": "execute_result"
    }
   ],
   "source": [
    "df_flights[['dep_time', 'dep_delay', 'carrier_delay', 'weather_delay', 'nas_delay', 'security_delay', 'late_aircraft_delay']]"
   ]
  },
  {
   "cell_type": "markdown",
   "id": "4c303d34-6bbb-40d7-881f-26d37c4d3541",
   "metadata": {},
   "source": [
    "departure delays with negatives show early departure, meaning there are no further delays (e.g. carrier_delay, etc.)"
   ]
  },
  {
   "cell_type": "code",
   "execution_count": 417,
   "id": "c5bca061-1332-46c6-8fcb-55287d32002b",
   "metadata": {},
   "outputs": [
    {
     "data": {
      "text/plain": [
       "fl_date                     0\n",
       "mkt_unique_carrier          0\n",
       "branded_code_share          0\n",
       "mkt_carrier                 0\n",
       "mkt_carrier_fl_num          0\n",
       "op_unique_carrier           0\n",
       "tail_num                  601\n",
       "op_carrier_fl_num           0\n",
       "origin_airport_id           0\n",
       "origin                      0\n",
       "origin_city_name            0\n",
       "dest_airport_id             0\n",
       "dest                        0\n",
       "dest_city_name              0\n",
       "crs_dep_time                0\n",
       "dep_time                 3233\n",
       "dep_delay                3283\n",
       "taxi_out                 3424\n",
       "wheels_off               3424\n",
       "wheels_on                3504\n",
       "taxi_in                  3504\n",
       "crs_arr_time                0\n",
       "arr_time                 3422\n",
       "arr_delay                3840\n",
       "cancelled                   0\n",
       "cancellation_code      196633\n",
       "diverted                    0\n",
       "dup                         0\n",
       "crs_elapsed_time            0\n",
       "actual_elapsed_time      3807\n",
       "air_time                 3889\n",
       "flights                     0\n",
       "distance                    0\n",
       "carrier_delay          162197\n",
       "weather_delay          162197\n",
       "nas_delay              162197\n",
       "security_delay         162197\n",
       "late_aircraft_delay    162197\n",
       "first_dep_time         198622\n",
       "total_add_gtime        198622\n",
       "longest_add_gtime      198622\n",
       "no_name                200000\n",
       "dtype: int64"
      ]
     },
     "execution_count": 417,
     "metadata": {},
     "output_type": "execute_result"
    }
   ],
   "source": [
    "# find nulls\n",
    "df_flights.isna().sum()"
   ]
  },
  {
   "cell_type": "code",
   "execution_count": 418,
   "id": "54cafa51-904f-472f-8b4b-8f8e7f73b4d3",
   "metadata": {},
   "outputs": [],
   "source": [
    "# # check diverted values\n",
    "\n",
    "# # df_flights[df_flights['diverted']== 0][['diverted', 'origin', 'origin_city_name']]\n",
    "# df_flights[df_flights['diverted']== 1][['diverted', 'origin', 'origin_city_name']]"
   ]
  },
  {
   "cell_type": "code",
   "execution_count": 419,
   "id": "4c7b961f-3090-432d-8d7e-3d3645687618",
   "metadata": {},
   "outputs": [],
   "source": [
    "# drop rows where there are cancellation of flight, cancellation flights are not going to affect delays, 0 meaning not cancelled\n",
    "\n",
    "index_cancelled = df_flights.loc[df_flights['cancelled'] == 1].index\n",
    "df_flights.drop(index_cancelled, inplace = True)\n"
   ]
  },
  {
   "cell_type": "code",
   "execution_count": 420,
   "id": "c306494c-8542-4173-baf6-6c6fd08b0eaa",
   "metadata": {},
   "outputs": [],
   "source": [
    "# drop rows where there are no diverted flights\n",
    "\n",
    "index_diverted = df_flights.loc[df_flights['diverted'] == 1].index\n",
    "df_flights.drop(index_diverted, inplace = True)"
   ]
  },
  {
   "cell_type": "code",
   "execution_count": 421,
   "id": "aa001f00-cd1f-4e17-8293-50abbdd35d18",
   "metadata": {},
   "outputs": [],
   "source": [
    "df_flights = df_flights.drop(columns = ['diverted', 'wheels_off','wheels_on','origin_airport_id','dest_airport_id', 'no_name', 'first_dep_time','longest_add_gtime','total_add_gtime','cancellation_code','flights','dup','cancelled','tail_num','mkt_carrier_fl_num','branded_code_share','mkt_carrier'\n",
    "                                          ],axis=1)"
   ]
  },
  {
   "cell_type": "code",
   "execution_count": 422,
   "id": "d09a3942-b718-46bb-92d9-aba673558cbe",
   "metadata": {},
   "outputs": [
    {
     "name": "stdout",
     "output_type": "stream",
     "text": [
      "<class 'pandas.core.frame.DataFrame'>\n",
      "Int64Index: 196193 entries, 0 to 199999\n",
      "Data columns (total 25 columns):\n",
      " #   Column               Non-Null Count   Dtype  \n",
      "---  ------               --------------   -----  \n",
      " 0   fl_date              196193 non-null  object \n",
      " 1   mkt_unique_carrier   196193 non-null  object \n",
      " 2   op_unique_carrier    196193 non-null  object \n",
      " 3   op_carrier_fl_num    196193 non-null  int64  \n",
      " 4   origin               196193 non-null  object \n",
      " 5   origin_city_name     196193 non-null  object \n",
      " 6   dest                 196193 non-null  object \n",
      " 7   dest_city_name       196193 non-null  object \n",
      " 8   crs_dep_time         196193 non-null  int64  \n",
      " 9   dep_time             196193 non-null  float64\n",
      " 10  dep_delay            196146 non-null  float64\n",
      " 11  taxi_out             196111 non-null  float64\n",
      " 12  taxi_in              196111 non-null  float64\n",
      " 13  crs_arr_time         196193 non-null  int64  \n",
      " 14  arr_time             196193 non-null  float64\n",
      " 15  arr_delay            196160 non-null  float64\n",
      " 16  crs_elapsed_time     196193 non-null  int64  \n",
      " 17  actual_elapsed_time  196193 non-null  float64\n",
      " 18  air_time             196111 non-null  float64\n",
      " 19  distance             196193 non-null  int64  \n",
      " 20  carrier_delay        37803 non-null   float64\n",
      " 21  weather_delay        37803 non-null   float64\n",
      " 22  nas_delay            37803 non-null   float64\n",
      " 23  security_delay       37803 non-null   float64\n",
      " 24  late_aircraft_delay  37803 non-null   float64\n",
      "dtypes: float64(13), int64(5), object(7)\n",
      "memory usage: 38.9+ MB\n"
     ]
    }
   ],
   "source": [
    "df_flights.info()"
   ]
  },
  {
   "cell_type": "code",
   "execution_count": 423,
   "id": "f77faae6-eaa9-40aa-a0a3-9512073d1ace",
   "metadata": {},
   "outputs": [
    {
     "data": {
      "text/plain": [
       "(196193, 25)"
      ]
     },
     "execution_count": 423,
     "metadata": {},
     "output_type": "execute_result"
    }
   ],
   "source": [
    "df_flights.shape"
   ]
  },
  {
   "cell_type": "code",
   "execution_count": 424,
   "id": "f6f29cb8-5afc-4248-b589-b4acbfda66d3",
   "metadata": {},
   "outputs": [
    {
     "data": {
      "text/plain": [
       "fl_date                     0\n",
       "mkt_unique_carrier          0\n",
       "op_unique_carrier           0\n",
       "op_carrier_fl_num           0\n",
       "origin                      0\n",
       "origin_city_name            0\n",
       "dest                        0\n",
       "dest_city_name              0\n",
       "crs_dep_time                0\n",
       "dep_time                    0\n",
       "dep_delay                  47\n",
       "taxi_out                   82\n",
       "taxi_in                    82\n",
       "crs_arr_time                0\n",
       "arr_time                    0\n",
       "arr_delay                  33\n",
       "crs_elapsed_time            0\n",
       "actual_elapsed_time         0\n",
       "air_time                   82\n",
       "distance                    0\n",
       "carrier_delay          158390\n",
       "weather_delay          158390\n",
       "nas_delay              158390\n",
       "security_delay         158390\n",
       "late_aircraft_delay    158390\n",
       "dtype: int64"
      ]
     },
     "execution_count": 424,
     "metadata": {},
     "output_type": "execute_result"
    }
   ],
   "source": [
    "# check for nulls after dropping columns\n",
    "\n",
    "df_flights.isnull().sum()"
   ]
  },
  {
   "cell_type": "code",
   "execution_count": 425,
   "id": "9fe68022-c523-4518-a4c4-f9f3d3d804b5",
   "metadata": {},
   "outputs": [],
   "source": [
    "# check for duplicates\n",
    "# df_flights.duplicated()"
   ]
  },
  {
   "cell_type": "code",
   "execution_count": 426,
   "id": "6935136f-831f-44d4-8b12-76f720820260",
   "metadata": {},
   "outputs": [],
   "source": [
    "def fill_columns(fill,columns,df):\n",
    "    for col in columns:\n",
    "        df[col].fillna(fill,inplace=True)\n",
    "        "
   ]
  },
  {
   "cell_type": "code",
   "execution_count": 427,
   "id": "8207f6f0-0cd1-488b-9cad-cfb5be9aad80",
   "metadata": {},
   "outputs": [],
   "source": [
    "# Fill some columns null with 0 based on distribution (histogram below)\n",
    "columns= ['dep_delay','arr_delay','taxi_out','taxi_in']\n",
    "\n",
    "# fill all na row values with 0 in the columns described above\n",
    "fill_columns(0,columns,df_flights)"
   ]
  },
  {
   "cell_type": "code",
   "execution_count": null,
   "id": "4a291417-16cb-429e-a262-a0705a9b24d6",
   "metadata": {},
   "outputs": [],
   "source": [
    "# fill air_time with median (based on histogram below)\n",
    "df_flights['air_time'] = df_flights['air_time'].fillna(df_flights['actual_elapsed_time'])"
   ]
  },
  {
   "cell_type": "code",
   "execution_count": 429,
   "id": "c233a2ae-0bb5-46d2-ba13-5b0b488cf785",
   "metadata": {},
   "outputs": [],
   "source": [
    "# fill NaNs in carrier, weather, nas, security, late aircraft delay with 0s because when departure delay (dep_delay) is negative, there are no delays. \n",
    "delay_columns= ['carrier_delay','weather_delay','nas_delay','security_delay', 'late_aircraft_delay']\n",
    "fill_columns(0, delay_columns, df_flights)"
   ]
  },
  {
   "cell_type": "code",
   "execution_count": 430,
   "id": "1eef0c45-000c-47c2-97a9-d6ae69f9e4d0",
   "metadata": {},
   "outputs": [],
   "source": [
    "# filling na values of actual_elapsed_time and air_time\n",
    "\n",
    "actual_elapsed_time_med = df_flights['actual_elapsed_time'].median()\n",
    "air_time_med = df_flights['air_time'].median()\n",
    "\n",
    "df_flights['actual_elapsed_time'].fillna(actual_elapsed_time_med, inplace=True)\n",
    "df_flights['air_time'].fillna(air_time_med, inplace=True)"
   ]
  },
  {
   "cell_type": "code",
   "execution_count": 431,
   "id": "44585db7-d703-420b-b6ea-10e738a393fe",
   "metadata": {},
   "outputs": [
    {
     "data": {
      "text/plain": [
       "fl_date                0\n",
       "mkt_unique_carrier     0\n",
       "op_unique_carrier      0\n",
       "op_carrier_fl_num      0\n",
       "origin                 0\n",
       "origin_city_name       0\n",
       "dest                   0\n",
       "dest_city_name         0\n",
       "crs_dep_time           0\n",
       "dep_time               0\n",
       "dep_delay              0\n",
       "taxi_out               0\n",
       "taxi_in                0\n",
       "crs_arr_time           0\n",
       "arr_time               0\n",
       "arr_delay              0\n",
       "crs_elapsed_time       0\n",
       "actual_elapsed_time    0\n",
       "air_time               0\n",
       "distance               0\n",
       "carrier_delay          0\n",
       "weather_delay          0\n",
       "nas_delay              0\n",
       "security_delay         0\n",
       "late_aircraft_delay    0\n",
       "dtype: int64"
      ]
     },
     "execution_count": 431,
     "metadata": {},
     "output_type": "execute_result"
    }
   ],
   "source": [
    "df_flights.isnull().sum()"
   ]
  },
  {
   "cell_type": "markdown",
   "id": "89c3a825-9be3-49cb-87ed-93e2ce2f286e",
   "metadata": {},
   "source": [
    "### Plot distributions to analyze for missing values:\n",
    "### dep_delay"
   ]
  },
  {
   "cell_type": "code",
   "execution_count": 394,
   "id": "cdc9960c-6511-47ab-8907-a451771cf68a",
   "metadata": {},
   "outputs": [
    {
     "data": {
      "text/plain": [
       "<AxesSubplot:>"
      ]
     },
     "execution_count": 394,
     "metadata": {},
     "output_type": "execute_result"
    },
    {
     "data": {
      "image/png": "[encoded data removed]",
      "text/plain": [
       "<Figure size 432x288 with 1 Axes>"
      ]
     },
     "metadata": {
      "needs_background": "light"
     },
     "output_type": "display_data"
    }
   ],
   "source": [
    "df_flights['dep_delay'].hist()"
   ]
  },
  {
   "cell_type": "code",
   "execution_count": 395,
   "id": "5a334866-d55c-4c16-be4b-4516513df0c7",
   "metadata": {},
   "outputs": [
    {
     "data": {
      "text/plain": [
       "count    196193.000000\n",
       "mean         10.589511\n",
       "std          48.962303\n",
       "min         -41.000000\n",
       "25%          -6.000000\n",
       "50%          -2.000000\n",
       "75%           6.000000\n",
       "max        1522.000000\n",
       "Name: dep_delay, dtype: float64"
      ]
     },
     "execution_count": 395,
     "metadata": {},
     "output_type": "execute_result"
    }
   ],
   "source": [
    "df_flights['dep_delay'].describe()"
   ]
  },
  {
   "cell_type": "markdown",
   "id": "56b0f533-4258-4684-b522-c5cf48e8f4d5",
   "metadata": {},
   "source": [
    "### taxi_out"
   ]
  },
  {
   "cell_type": "code",
   "execution_count": 396,
   "id": "1783d565-6325-4bb8-ac1b-fe499bfe178a",
   "metadata": {},
   "outputs": [
    {
     "data": {
      "text/plain": [
       "<AxesSubplot:>"
      ]
     },
     "execution_count": 396,
     "metadata": {},
     "output_type": "execute_result"
    },
    {
     "data": {
      "image/png": "[encoded data removed]",
      "text/plain": [
       "<Figure size 432x288 with 1 Axes>"
      ]
     },
     "metadata": {
      "needs_background": "light"
     },
     "output_type": "display_data"
    }
   ],
   "source": [
    "df_flights['taxi_out'].hist()"
   ]
  },
  {
   "cell_type": "code",
   "execution_count": 397,
   "id": "f83eb76a-4be8-4592-9c21-056a7aef0b2a",
   "metadata": {},
   "outputs": [
    {
     "data": {
      "text/plain": [
       "count    196193.000000\n",
       "mean         17.520279\n",
       "std          10.023727\n",
       "min           0.000000\n",
       "25%          11.000000\n",
       "50%          15.000000\n",
       "75%          20.000000\n",
       "max         172.000000\n",
       "Name: taxi_out, dtype: float64"
      ]
     },
     "execution_count": 397,
     "metadata": {},
     "output_type": "execute_result"
    }
   ],
   "source": [
    "df_flights['taxi_out'].describe()"
   ]
  },
  {
   "cell_type": "markdown",
   "id": "9ec22dde-587c-4e93-8d47-d06ee7195a00",
   "metadata": {},
   "source": [
    "### taxi_in"
   ]
  },
  {
   "cell_type": "code",
   "execution_count": 338,
   "id": "a4b039b8-ed97-4fcd-95eb-8800e3b1cae0",
   "metadata": {},
   "outputs": [
    {
     "data": {
      "text/plain": [
       "<AxesSubplot:>"
      ]
     },
     "execution_count": 338,
     "metadata": {},
     "output_type": "execute_result"
    },
    {
     "data": {
      "image/png": "[encoded data removed]",
      "text/plain": [
       "<Figure size 432x288 with 1 Axes>"
      ]
     },
     "metadata": {
      "needs_background": "light"
     },
     "output_type": "display_data"
    }
   ],
   "source": [
    "df_flights['taxi_in'].hist()"
   ]
  },
  {
   "cell_type": "code",
   "execution_count": 339,
   "id": "d993b6ab-475a-4719-b669-d6d7c4477644",
   "metadata": {},
   "outputs": [
    {
     "data": {
      "text/plain": [
       "count    196111.000000\n",
       "mean          7.684368\n",
       "std           6.155854\n",
       "min           0.000000\n",
       "25%           4.000000\n",
       "50%           6.000000\n",
       "75%           9.000000\n",
       "max         208.000000\n",
       "Name: taxi_in, dtype: float64"
      ]
     },
     "execution_count": 339,
     "metadata": {},
     "output_type": "execute_result"
    }
   ],
   "source": [
    "df_flights['taxi_in'].describe()"
   ]
  },
  {
   "cell_type": "markdown",
   "id": "935b1986-ddb5-4d89-893f-ce6c4fa6c1ff",
   "metadata": {},
   "source": [
    "### arr_delay"
   ]
  },
  {
   "cell_type": "code",
   "execution_count": 340,
   "id": "a6973708-b212-4769-9c92-c931d11c1abf",
   "metadata": {},
   "outputs": [
    {
     "data": {
      "text/plain": [
       "<AxesSubplot:>"
      ]
     },
     "execution_count": 340,
     "metadata": {},
     "output_type": "execute_result"
    },
    {
     "data": {
      "image/png": "[encoded data removed]",
      "text/plain": [
       "<Figure size 432x288 with 1 Axes>"
      ]
     },
     "metadata": {
      "needs_background": "light"
     },
     "output_type": "display_data"
    }
   ],
   "source": [
    "df_flights['arr_delay'].hist()"
   ]
  },
  {
   "cell_type": "code",
   "execution_count": 341,
   "id": "af170bec-e601-4cf2-ac4f-5f36cfdacdc7",
   "metadata": {},
   "outputs": [
    {
     "data": {
      "text/plain": [
       "count    196160.000000\n",
       "mean          5.627126\n",
       "std          51.201890\n",
       "min         -78.000000\n",
       "25%         -15.000000\n",
       "50%          -6.000000\n",
       "75%           8.000000\n",
       "max        1515.000000\n",
       "Name: arr_delay, dtype: float64"
      ]
     },
     "execution_count": 341,
     "metadata": {},
     "output_type": "execute_result"
    }
   ],
   "source": [
    "df_flights['arr_delay'].describe()"
   ]
  },
  {
   "cell_type": "markdown",
   "id": "69fb1e88-4959-468d-a6ea-e796b2d225c7",
   "metadata": {},
   "source": [
    "### air_time"
   ]
  },
  {
   "cell_type": "code",
   "execution_count": 345,
   "id": "3f075a4b-a8f3-44d9-b664-4a297a4b0323",
   "metadata": {},
   "outputs": [
    {
     "data": {
      "text/plain": [
       "<AxesSubplot:>"
      ]
     },
     "execution_count": 345,
     "metadata": {},
     "output_type": "execute_result"
    },
    {
     "data": {
      "image/png": "[encoded data removed]",
      "text/plain": [
       "<Figure size 432x288 with 1 Axes>"
      ]
     },
     "metadata": {
      "needs_background": "light"
     },
     "output_type": "display_data"
    }
   ],
   "source": [
    "df_flights['air_time'].hist()"
   ]
  },
  {
   "cell_type": "code",
   "execution_count": 346,
   "id": "f99c6175-82a2-4bf1-af97-ece05cb99cb6",
   "metadata": {},
   "outputs": [
    {
     "data": {
      "text/plain": [
       "89.0"
      ]
     },
     "execution_count": 346,
     "metadata": {},
     "output_type": "execute_result"
    }
   ],
   "source": [
    "df_flights['air_time'].median()"
   ]
  },
  {
   "cell_type": "code",
   "execution_count": 347,
   "id": "95b5ec19-9347-44f6-afe1-fd5c1a418cfc",
   "metadata": {},
   "outputs": [
    {
     "data": {
      "text/plain": [
       "count    196111.000000\n",
       "mean        107.910005\n",
       "std          69.510928\n",
       "min           8.000000\n",
       "25%          58.000000\n",
       "50%          89.000000\n",
       "75%         137.000000\n",
       "max         669.000000\n",
       "Name: air_time, dtype: float64"
      ]
     },
     "execution_count": 347,
     "metadata": {},
     "output_type": "execute_result"
    }
   ],
   "source": [
    "df_flights['air_time'].describe()"
   ]
  },
  {
   "cell_type": "markdown",
   "id": "7edc0742-661c-4b44-ab75-aa4697e24ba2",
   "metadata": {},
   "source": [
    "### carrier_delay"
   ]
  },
  {
   "cell_type": "code",
   "execution_count": 348,
   "id": "1bca8204-2967-469b-8e1f-87624730d237",
   "metadata": {},
   "outputs": [
    {
     "data": {
      "text/plain": [
       "<AxesSubplot:>"
      ]
     },
     "execution_count": 348,
     "metadata": {},
     "output_type": "execute_result"
    },
    {
     "data": {
      "image/png": "[encoded data removed]",
      "text/plain": [
       "<Figure size 432x288 with 1 Axes>"
      ]
     },
     "metadata": {
      "needs_background": "light"
     },
     "output_type": "display_data"
    }
   ],
   "source": [
    "df_flights['carrier_delay'].hist()"
   ]
  },
  {
   "cell_type": "code",
   "execution_count": 432,
   "id": "55f71373-8a7b-4ebe-b17a-5773b4b59d95",
   "metadata": {},
   "outputs": [
    {
     "data": {
      "text/html": [
       "<div>\n",
       "<style scoped>\n",
       "    .dataframe tbody tr th:only-of-type {\n",
       "        vertical-align: middle;\n",
       "    }\n",
       "\n",
       "    .dataframe tbody tr th {\n",
       "        vertical-align: top;\n",
       "    }\n",
       "\n",
       "    .dataframe thead th {\n",
       "        text-align: right;\n",
       "    }\n",
       "</style>\n",
       "<table border=\"1\" class=\"dataframe\">\n",
       "  <thead>\n",
       "    <tr style=\"text-align: right;\">\n",
       "      <th></th>\n",
       "      <th>fl_date</th>\n",
       "      <th>mkt_unique_carrier</th>\n",
       "      <th>op_unique_carrier</th>\n",
       "      <th>op_carrier_fl_num</th>\n",
       "      <th>origin</th>\n",
       "      <th>origin_city_name</th>\n",
       "      <th>dest</th>\n",
       "      <th>dest_city_name</th>\n",
       "      <th>crs_dep_time</th>\n",
       "      <th>dep_time</th>\n",
       "      <th>...</th>\n",
       "      <th>arr_delay</th>\n",
       "      <th>crs_elapsed_time</th>\n",
       "      <th>actual_elapsed_time</th>\n",
       "      <th>air_time</th>\n",
       "      <th>distance</th>\n",
       "      <th>carrier_delay</th>\n",
       "      <th>weather_delay</th>\n",
       "      <th>nas_delay</th>\n",
       "      <th>security_delay</th>\n",
       "      <th>late_aircraft_delay</th>\n",
       "    </tr>\n",
       "  </thead>\n",
       "  <tbody>\n",
       "    <tr>\n",
       "      <th>0</th>\n",
       "      <td>2018-05-31</td>\n",
       "      <td>WN</td>\n",
       "      <td>WN</td>\n",
       "      <td>2081</td>\n",
       "      <td>BUR</td>\n",
       "      <td>Burbank, CA</td>\n",
       "      <td>SFO</td>\n",
       "      <td>San Francisco, CA</td>\n",
       "      <td>1100</td>\n",
       "      <td>1138.0</td>\n",
       "      <td>...</td>\n",
       "      <td>51.0</td>\n",
       "      <td>80</td>\n",
       "      <td>93.0</td>\n",
       "      <td>68.0</td>\n",
       "      <td>326</td>\n",
       "      <td>0.0</td>\n",
       "      <td>0.0</td>\n",
       "      <td>51.0</td>\n",
       "      <td>0.0</td>\n",
       "      <td>0.0</td>\n",
       "    </tr>\n",
       "    <tr>\n",
       "      <th>1</th>\n",
       "      <td>2019-04-20</td>\n",
       "      <td>AA</td>\n",
       "      <td>AA</td>\n",
       "      <td>2244</td>\n",
       "      <td>ORD</td>\n",
       "      <td>Chicago, IL</td>\n",
       "      <td>DFW</td>\n",
       "      <td>Dallas/Fort Worth, TX</td>\n",
       "      <td>1311</td>\n",
       "      <td>1303.0</td>\n",
       "      <td>...</td>\n",
       "      <td>-35.0</td>\n",
       "      <td>153</td>\n",
       "      <td>126.0</td>\n",
       "      <td>101.0</td>\n",
       "      <td>801</td>\n",
       "      <td>0.0</td>\n",
       "      <td>0.0</td>\n",
       "      <td>0.0</td>\n",
       "      <td>0.0</td>\n",
       "      <td>0.0</td>\n",
       "    </tr>\n",
       "    <tr>\n",
       "      <th>2</th>\n",
       "      <td>2019-02-13</td>\n",
       "      <td>WN</td>\n",
       "      <td>WN</td>\n",
       "      <td>1731</td>\n",
       "      <td>MSY</td>\n",
       "      <td>New Orleans, LA</td>\n",
       "      <td>HOU</td>\n",
       "      <td>Houston, TX</td>\n",
       "      <td>2130</td>\n",
       "      <td>2159.0</td>\n",
       "      <td>...</td>\n",
       "      <td>18.0</td>\n",
       "      <td>75</td>\n",
       "      <td>64.0</td>\n",
       "      <td>55.0</td>\n",
       "      <td>302</td>\n",
       "      <td>0.0</td>\n",
       "      <td>0.0</td>\n",
       "      <td>0.0</td>\n",
       "      <td>0.0</td>\n",
       "      <td>18.0</td>\n",
       "    </tr>\n",
       "    <tr>\n",
       "      <th>3</th>\n",
       "      <td>2018-11-20</td>\n",
       "      <td>AA</td>\n",
       "      <td>AA</td>\n",
       "      <td>2620</td>\n",
       "      <td>DFW</td>\n",
       "      <td>Dallas/Fort Worth, TX</td>\n",
       "      <td>IND</td>\n",
       "      <td>Indianapolis, IN</td>\n",
       "      <td>1834</td>\n",
       "      <td>1833.0</td>\n",
       "      <td>...</td>\n",
       "      <td>13.0</td>\n",
       "      <td>128</td>\n",
       "      <td>142.0</td>\n",
       "      <td>102.0</td>\n",
       "      <td>761</td>\n",
       "      <td>0.0</td>\n",
       "      <td>0.0</td>\n",
       "      <td>0.0</td>\n",
       "      <td>0.0</td>\n",
       "      <td>0.0</td>\n",
       "    </tr>\n",
       "    <tr>\n",
       "      <th>4</th>\n",
       "      <td>2018-08-28</td>\n",
       "      <td>DL</td>\n",
       "      <td>9E</td>\n",
       "      <td>4060</td>\n",
       "      <td>JFK</td>\n",
       "      <td>New York, NY</td>\n",
       "      <td>IAD</td>\n",
       "      <td>Washington, DC</td>\n",
       "      <td>1359</td>\n",
       "      <td>1353.0</td>\n",
       "      <td>...</td>\n",
       "      <td>-34.0</td>\n",
       "      <td>98</td>\n",
       "      <td>70.0</td>\n",
       "      <td>51.0</td>\n",
       "      <td>228</td>\n",
       "      <td>0.0</td>\n",
       "      <td>0.0</td>\n",
       "      <td>0.0</td>\n",
       "      <td>0.0</td>\n",
       "      <td>0.0</td>\n",
       "    </tr>\n",
       "    <tr>\n",
       "      <th>...</th>\n",
       "      <td>...</td>\n",
       "      <td>...</td>\n",
       "      <td>...</td>\n",
       "      <td>...</td>\n",
       "      <td>...</td>\n",
       "      <td>...</td>\n",
       "      <td>...</td>\n",
       "      <td>...</td>\n",
       "      <td>...</td>\n",
       "      <td>...</td>\n",
       "      <td>...</td>\n",
       "      <td>...</td>\n",
       "      <td>...</td>\n",
       "      <td>...</td>\n",
       "      <td>...</td>\n",
       "      <td>...</td>\n",
       "      <td>...</td>\n",
       "      <td>...</td>\n",
       "      <td>...</td>\n",
       "      <td>...</td>\n",
       "      <td>...</td>\n",
       "    </tr>\n",
       "    <tr>\n",
       "      <th>199995</th>\n",
       "      <td>2018-01-10</td>\n",
       "      <td>DL</td>\n",
       "      <td>EV</td>\n",
       "      <td>5584</td>\n",
       "      <td>MLI</td>\n",
       "      <td>Moline, IL</td>\n",
       "      <td>ATL</td>\n",
       "      <td>Atlanta, GA</td>\n",
       "      <td>1735</td>\n",
       "      <td>1726.0</td>\n",
       "      <td>...</td>\n",
       "      <td>-5.0</td>\n",
       "      <td>115</td>\n",
       "      <td>119.0</td>\n",
       "      <td>91.0</td>\n",
       "      <td>633</td>\n",
       "      <td>0.0</td>\n",
       "      <td>0.0</td>\n",
       "      <td>0.0</td>\n",
       "      <td>0.0</td>\n",
       "      <td>0.0</td>\n",
       "    </tr>\n",
       "    <tr>\n",
       "      <th>199996</th>\n",
       "      <td>2018-07-25</td>\n",
       "      <td>AA</td>\n",
       "      <td>AA</td>\n",
       "      <td>2807</td>\n",
       "      <td>TPA</td>\n",
       "      <td>Tampa, FL</td>\n",
       "      <td>MIA</td>\n",
       "      <td>Miami, FL</td>\n",
       "      <td>1535</td>\n",
       "      <td>1602.0</td>\n",
       "      <td>...</td>\n",
       "      <td>112.0</td>\n",
       "      <td>71</td>\n",
       "      <td>156.0</td>\n",
       "      <td>54.0</td>\n",
       "      <td>204</td>\n",
       "      <td>10.0</td>\n",
       "      <td>0.0</td>\n",
       "      <td>85.0</td>\n",
       "      <td>0.0</td>\n",
       "      <td>17.0</td>\n",
       "    </tr>\n",
       "    <tr>\n",
       "      <th>199997</th>\n",
       "      <td>2019-11-19</td>\n",
       "      <td>UA</td>\n",
       "      <td>YX</td>\n",
       "      <td>3419</td>\n",
       "      <td>EWR</td>\n",
       "      <td>Newark, NJ</td>\n",
       "      <td>DTW</td>\n",
       "      <td>Detroit, MI</td>\n",
       "      <td>845</td>\n",
       "      <td>836.0</td>\n",
       "      <td>...</td>\n",
       "      <td>-23.0</td>\n",
       "      <td>137</td>\n",
       "      <td>123.0</td>\n",
       "      <td>80.0</td>\n",
       "      <td>488</td>\n",
       "      <td>0.0</td>\n",
       "      <td>0.0</td>\n",
       "      <td>0.0</td>\n",
       "      <td>0.0</td>\n",
       "      <td>0.0</td>\n",
       "    </tr>\n",
       "    <tr>\n",
       "      <th>199998</th>\n",
       "      <td>2018-08-29</td>\n",
       "      <td>AS</td>\n",
       "      <td>AS</td>\n",
       "      <td>1323</td>\n",
       "      <td>SFO</td>\n",
       "      <td>San Francisco, CA</td>\n",
       "      <td>PDX</td>\n",
       "      <td>Portland, OR</td>\n",
       "      <td>810</td>\n",
       "      <td>807.0</td>\n",
       "      <td>...</td>\n",
       "      <td>20.0</td>\n",
       "      <td>101</td>\n",
       "      <td>124.0</td>\n",
       "      <td>79.0</td>\n",
       "      <td>550</td>\n",
       "      <td>0.0</td>\n",
       "      <td>0.0</td>\n",
       "      <td>20.0</td>\n",
       "      <td>0.0</td>\n",
       "      <td>0.0</td>\n",
       "    </tr>\n",
       "    <tr>\n",
       "      <th>199999</th>\n",
       "      <td>2019-11-23</td>\n",
       "      <td>UA</td>\n",
       "      <td>UA</td>\n",
       "      <td>1915</td>\n",
       "      <td>ORD</td>\n",
       "      <td>Chicago, IL</td>\n",
       "      <td>DEN</td>\n",
       "      <td>Denver, CO</td>\n",
       "      <td>1950</td>\n",
       "      <td>2038.0</td>\n",
       "      <td>...</td>\n",
       "      <td>31.0</td>\n",
       "      <td>160</td>\n",
       "      <td>143.0</td>\n",
       "      <td>120.0</td>\n",
       "      <td>888</td>\n",
       "      <td>0.0</td>\n",
       "      <td>0.0</td>\n",
       "      <td>0.0</td>\n",
       "      <td>0.0</td>\n",
       "      <td>31.0</td>\n",
       "    </tr>\n",
       "  </tbody>\n",
       "</table>\n",
       "<p>196193 rows × 25 columns</p>\n",
       "</div>"
      ],
      "text/plain": [
       "           fl_date mkt_unique_carrier op_unique_carrier  op_carrier_fl_num  \\\n",
       "0       2018-05-31                 WN                WN               2081   \n",
       "1       2019-04-20                 AA                AA               2244   \n",
       "2       2019-02-13                 WN                WN               1731   \n",
       "3       2018-11-20                 AA                AA               2620   \n",
       "4       2018-08-28                 DL                9E               4060   \n",
       "...            ...                ...               ...                ...   \n",
       "199995  2018-01-10                 DL                EV               5584   \n",
       "199996  2018-07-25                 AA                AA               2807   \n",
       "199997  2019-11-19                 UA                YX               3419   \n",
       "199998  2018-08-29                 AS                AS               1323   \n",
       "199999  2019-11-23                 UA                UA               1915   \n",
       "\n",
       "       origin       origin_city_name dest         dest_city_name  \\\n",
       "0         BUR            Burbank, CA  SFO      San Francisco, CA   \n",
       "1         ORD            Chicago, IL  DFW  Dallas/Fort Worth, TX   \n",
       "2         MSY        New Orleans, LA  HOU            Houston, TX   \n",
       "3         DFW  Dallas/Fort Worth, TX  IND       Indianapolis, IN   \n",
       "4         JFK           New York, NY  IAD         Washington, DC   \n",
       "...       ...                    ...  ...                    ...   \n",
       "199995    MLI             Moline, IL  ATL            Atlanta, GA   \n",
       "199996    TPA              Tampa, FL  MIA              Miami, FL   \n",
       "199997    EWR             Newark, NJ  DTW            Detroit, MI   \n",
       "199998    SFO      San Francisco, CA  PDX           Portland, OR   \n",
       "199999    ORD            Chicago, IL  DEN             Denver, CO   \n",
       "\n",
       "        crs_dep_time  dep_time  ...  arr_delay  crs_elapsed_time  \\\n",
       "0               1100    1138.0  ...       51.0                80   \n",
       "1               1311    1303.0  ...      -35.0               153   \n",
       "2               2130    2159.0  ...       18.0                75   \n",
       "3               1834    1833.0  ...       13.0               128   \n",
       "4               1359    1353.0  ...      -34.0                98   \n",
       "...              ...       ...  ...        ...               ...   \n",
       "199995          1735    1726.0  ...       -5.0               115   \n",
       "199996          1535    1602.0  ...      112.0                71   \n",
       "199997           845     836.0  ...      -23.0               137   \n",
       "199998           810     807.0  ...       20.0               101   \n",
       "199999          1950    2038.0  ...       31.0               160   \n",
       "\n",
       "        actual_elapsed_time  air_time  distance  carrier_delay  weather_delay  \\\n",
       "0                      93.0      68.0       326            0.0            0.0   \n",
       "1                     126.0     101.0       801            0.0            0.0   \n",
       "2                      64.0      55.0       302            0.0            0.0   \n",
       "3                     142.0     102.0       761            0.0            0.0   \n",
       "4                      70.0      51.0       228            0.0            0.0   \n",
       "...                     ...       ...       ...            ...            ...   \n",
       "199995                119.0      91.0       633            0.0            0.0   \n",
       "199996                156.0      54.0       204           10.0            0.0   \n",
       "199997                123.0      80.0       488            0.0            0.0   \n",
       "199998                124.0      79.0       550            0.0            0.0   \n",
       "199999                143.0     120.0       888            0.0            0.0   \n",
       "\n",
       "        nas_delay  security_delay  late_aircraft_delay  \n",
       "0            51.0             0.0                  0.0  \n",
       "1             0.0             0.0                  0.0  \n",
       "2             0.0             0.0                 18.0  \n",
       "3             0.0             0.0                  0.0  \n",
       "4             0.0             0.0                  0.0  \n",
       "...           ...             ...                  ...  \n",
       "199995        0.0             0.0                  0.0  \n",
       "199996       85.0             0.0                 17.0  \n",
       "199997        0.0             0.0                  0.0  \n",
       "199998       20.0             0.0                  0.0  \n",
       "199999        0.0             0.0                 31.0  \n",
       "\n",
       "[196193 rows x 25 columns]"
      ]
     },
     "execution_count": 432,
     "metadata": {},
     "output_type": "execute_result"
    }
   ],
   "source": [
    "df_flights"
   ]
  },
  {
   "cell_type": "markdown",
   "id": "3bf9140f-d758-432e-a975-f2361f5ac64d",
   "metadata": {},
   "source": [
    "## Export to csv"
   ]
  },
  {
   "cell_type": "code",
   "execution_count": 433,
   "id": "e1abfa08-c221-4d07-95bd-3f6a50568cc1",
   "metadata": {},
   "outputs": [],
   "source": [
    "df_flights.to_csv('./data/flights_cleaned.csv', index=False)"
   ]
  },
  {
   "cell_type": "markdown",
   "id": "aeb2183f-8e75-4ef8-8679-8e8964e94eaa",
   "metadata": {},
   "source": [
    "## change dtypes"
   ]
  },
  {
   "cell_type": "code",
   "execution_count": 434,
   "id": "6b1a918c-78dd-42c8-8df5-e57cc00b690d",
   "metadata": {},
   "outputs": [
    {
     "data": {
      "text/plain": [
       "fl_date                 object\n",
       "mkt_unique_carrier      object\n",
       "op_unique_carrier       object\n",
       "op_carrier_fl_num        int64\n",
       "origin                  object\n",
       "origin_city_name        object\n",
       "dest                    object\n",
       "dest_city_name          object\n",
       "crs_dep_time             int64\n",
       "dep_time               float64\n",
       "dep_delay              float64\n",
       "taxi_out               float64\n",
       "taxi_in                float64\n",
       "crs_arr_time             int64\n",
       "arr_time               float64\n",
       "arr_delay              float64\n",
       "crs_elapsed_time         int64\n",
       "actual_elapsed_time    float64\n",
       "air_time               float64\n",
       "distance                 int64\n",
       "carrier_delay          float64\n",
       "weather_delay          float64\n",
       "nas_delay              float64\n",
       "security_delay         float64\n",
       "late_aircraft_delay    float64\n",
       "dtype: object"
      ]
     },
     "execution_count": 434,
     "metadata": {},
     "output_type": "execute_result"
    }
   ],
   "source": [
    "df_flights.dtypes"
   ]
  },
  {
   "cell_type": "code",
   "execution_count": 354,
   "id": "bb9ccb5c-85fa-492f-b2e7-01a01efba291",
   "metadata": {},
   "outputs": [],
   "source": [
    "# # flights_df['crs_dep_time'] = flights_df['crs_dep_time'].astype('datetime64[ns]')\n",
    "                   \n",
    "# df_flights = df_flights2[['crs_dep_time','dep_time', 'crs_arr_time', 'arr_time']] = df_flights[['crs_dep_time','dep_time', 'crs_arr_time', 'arr_time']].apply(pd.to_datetime)\n",
    "# df_flights2[['crs_dep_time','dep_time', 'crs_arr_time', 'arr_time']].info()"
   ]
  },
  {
   "cell_type": "code",
   "execution_count": null,
   "id": "2aa6293e-1fb7-49a1-84a2-d19c54409faa",
   "metadata": {},
   "outputs": [],
   "source": []
  },
  {
   "cell_type": "code",
   "execution_count": null,
   "id": "73713b49-35bf-4153-aa8f-b1400e1de07a",
   "metadata": {},
   "outputs": [],
   "source": [
    "# df_test = df_flights[[\"arr_time\", \"crs_arr_time\"]]\n",
    "\n",
    "# df_test.head(30)"
   ]
  },
  {
   "cell_type": "code",
   "execution_count": 358,
   "id": "248b5c0b-867a-45a2-a022-133a313d0ca3",
   "metadata": {},
   "outputs": [
    {
     "data": {
      "text/plain": [
       "<AxesSubplot:xlabel='arr_time', ylabel='crs_arr_time'>"
      ]
     },
     "execution_count": 358,
     "metadata": {},
     "output_type": "execute_result"
    },
    {
     "data": {
      "image/png": "[encoded data removed]",
      "text/plain": [
       "<Figure size 432x288 with 1 Axes>"
      ]
     },
     "metadata": {
      "needs_background": "light"
     },
     "output_type": "display_data"
    }
   ],
   "source": [
    "sns.scatterplot(x='arr_time', y='crs_arr_time', data=df_flights)"
   ]
  },
  {
   "cell_type": "code",
   "execution_count": 359,
   "id": "790e5f83-80ef-4c1d-94b4-3ec21632b7b6",
   "metadata": {},
   "outputs": [
    {
     "data": {
      "text/plain": [
       "<AxesSubplot:xlabel='actual_elapsed_time', ylabel='crs_elapsed_time'>"
      ]
     },
     "execution_count": 359,
     "metadata": {},
     "output_type": "execute_result"
    },
    {
     "data": {
      "image/png": "[encoded data removed]",
      "text/plain": [
       "<Figure size 432x288 with 1 Axes>"
      ]
     },
     "metadata": {
      "needs_background": "light"
     },
     "output_type": "display_data"
    }
   ],
   "source": [
    "sns.scatterplot(x='actual_elapsed_time', y='crs_elapsed_time', data=df_flights)"
   ]
  },
  {
   "cell_type": "code",
   "execution_count": null,
   "id": "3af2e425-e1f4-486c-8b13-a5a4ecc0080e",
   "metadata": {},
   "outputs": [],
   "source": []
  }
 ],
 "metadata": {
  "kernelspec": {
   "display_name": "LHL_env",
   "language": "python",
   "name": "lhl_env"
  },
  "language_info": {
   "codemirror_mode": {
    "name": "ipython",
    "version": 3
   },
   "file_extension": ".py",
   "mimetype": "text/x-python",
   "name": "python",
   "nbconvert_exporter": "python",
   "pygments_lexer": "ipython3",
   "version": "3.9.13"
  }
 },
 "nbformat": 4,
 "nbformat_minor": 5
}
