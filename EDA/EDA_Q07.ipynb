{
 "cells": [
  {
   "cell_type": "markdown",
   "metadata": {},
   "source": [
    "#### **Task 7**: Test the hypothesis whether planes fly faster when there is the departure delay? "
   ]
  },
  {
   "cell_type": "code",
   "execution_count": 69,
   "metadata": {},
   "outputs": [],
   "source": [
    "import pandas as pd\n",
    "import numpy as np\n",
    "from scipy import stats\n",
    "\n"
   ]
  },
  {
   "cell_type": "code",
   "execution_count": 70,
   "metadata": {},
   "outputs": [],
   "source": [
    "flights = pd.read_csv('/Users/vickichen/Desktop/flight/midterm-project/data/flights_without_outlier.csv')"
   ]
  },
  {
   "cell_type": "code",
   "execution_count": 71,
   "metadata": {},
   "outputs": [
    {
     "data": {
      "text/html": [
       "<div>\n",
       "<style scoped>\n",
       "    .dataframe tbody tr th:only-of-type {\n",
       "        vertical-align: middle;\n",
       "    }\n",
       "\n",
       "    .dataframe tbody tr th {\n",
       "        vertical-align: top;\n",
       "    }\n",
       "\n",
       "    .dataframe thead th {\n",
       "        text-align: right;\n",
       "    }\n",
       "</style>\n",
       "<table border=\"1\" class=\"dataframe\">\n",
       "  <thead>\n",
       "    <tr style=\"text-align: right;\">\n",
       "      <th></th>\n",
       "      <th>fl_date</th>\n",
       "      <th>origin_city_name</th>\n",
       "      <th>dest_city_name</th>\n",
       "      <th>dep_delay</th>\n",
       "      <th>arr_delay</th>\n",
       "      <th>air_time</th>\n",
       "      <th>distance</th>\n",
       "    </tr>\n",
       "  </thead>\n",
       "  <tbody>\n",
       "    <tr>\n",
       "      <th>0</th>\n",
       "      <td>2019-04-20</td>\n",
       "      <td>Chicago, IL</td>\n",
       "      <td>Dallas/Fort Worth, TX</td>\n",
       "      <td>-8.0</td>\n",
       "      <td>-35.0</td>\n",
       "      <td>101.0</td>\n",
       "      <td>801</td>\n",
       "    </tr>\n",
       "    <tr>\n",
       "      <th>1</th>\n",
       "      <td>2018-11-20</td>\n",
       "      <td>Dallas/Fort Worth, TX</td>\n",
       "      <td>Indianapolis, IN</td>\n",
       "      <td>-1.0</td>\n",
       "      <td>13.0</td>\n",
       "      <td>102.0</td>\n",
       "      <td>761</td>\n",
       "    </tr>\n",
       "    <tr>\n",
       "      <th>2</th>\n",
       "      <td>2018-08-28</td>\n",
       "      <td>New York, NY</td>\n",
       "      <td>Washington, DC</td>\n",
       "      <td>-6.0</td>\n",
       "      <td>-34.0</td>\n",
       "      <td>51.0</td>\n",
       "      <td>228</td>\n",
       "    </tr>\n",
       "    <tr>\n",
       "      <th>3</th>\n",
       "      <td>2018-10-30</td>\n",
       "      <td>Salt Lake City, UT</td>\n",
       "      <td>Sacramento, CA</td>\n",
       "      <td>-2.0</td>\n",
       "      <td>-7.0</td>\n",
       "      <td>81.0</td>\n",
       "      <td>532</td>\n",
       "    </tr>\n",
       "    <tr>\n",
       "      <th>4</th>\n",
       "      <td>2018-03-31</td>\n",
       "      <td>Cleveland, OH</td>\n",
       "      <td>Atlanta, GA</td>\n",
       "      <td>-2.0</td>\n",
       "      <td>3.0</td>\n",
       "      <td>83.0</td>\n",
       "      <td>554</td>\n",
       "    </tr>\n",
       "  </tbody>\n",
       "</table>\n",
       "</div>"
      ],
      "text/plain": [
       "      fl_date       origin_city_name         dest_city_name  dep_delay  \\\n",
       "0  2019-04-20            Chicago, IL  Dallas/Fort Worth, TX       -8.0   \n",
       "1  2018-11-20  Dallas/Fort Worth, TX       Indianapolis, IN       -1.0   \n",
       "2  2018-08-28           New York, NY         Washington, DC       -6.0   \n",
       "3  2018-10-30     Salt Lake City, UT         Sacramento, CA       -2.0   \n",
       "4  2018-03-31          Cleveland, OH            Atlanta, GA       -2.0   \n",
       "\n",
       "   arr_delay  air_time  distance  \n",
       "0      -35.0     101.0       801  \n",
       "1       13.0     102.0       761  \n",
       "2      -34.0      51.0       228  \n",
       "3       -7.0      81.0       532  \n",
       "4        3.0      83.0       554  "
      ]
     },
     "execution_count": 71,
     "metadata": {},
     "output_type": "execute_result"
    }
   ],
   "source": [
    "data = flights[['fl_date','origin_city_name','dest_city_name','dep_delay','arr_delay','air_time','distance']]\n",
    "data.head()"
   ]
  },
  {
   "cell_type": "code",
   "execution_count": 72,
   "metadata": {},
   "outputs": [
    {
     "name": "stderr",
     "output_type": "stream",
     "text": [
      "/var/folders/fz/ntgp3y9j3p777vzmhx_1fmwr0000gn/T/ipykernel_13785/602229004.py:4: SettingWithCopyWarning: \n",
      "A value is trying to be set on a copy of a slice from a DataFrame.\n",
      "Try using .loc[row_indexer,col_indexer] = value instead\n",
      "\n",
      "See the caveats in the documentation: https://pandas.pydata.org/pandas-docs/stable/user_guide/indexing.html#returning-a-view-versus-a-copy\n",
      "  data['avg_speed'] = dis/time * 60 #per hour\n"
     ]
    }
   ],
   "source": [
    "#Calculate speed = distance /time\n",
    "dis = data['distance']\n",
    "time = data['air_time']\n",
    "data['avg_speed'] = dis/time * 60 #per hour"
   ]
  },
  {
   "cell_type": "code",
   "execution_count": 73,
   "metadata": {},
   "outputs": [
    {
     "data": {
      "text/html": [
       "<div>\n",
       "<style scoped>\n",
       "    .dataframe tbody tr th:only-of-type {\n",
       "        vertical-align: middle;\n",
       "    }\n",
       "\n",
       "    .dataframe tbody tr th {\n",
       "        vertical-align: top;\n",
       "    }\n",
       "\n",
       "    .dataframe thead th {\n",
       "        text-align: right;\n",
       "    }\n",
       "</style>\n",
       "<table border=\"1\" class=\"dataframe\">\n",
       "  <thead>\n",
       "    <tr style=\"text-align: right;\">\n",
       "      <th></th>\n",
       "      <th>fl_date</th>\n",
       "      <th>origin_city_name</th>\n",
       "      <th>dest_city_name</th>\n",
       "      <th>dep_delay</th>\n",
       "      <th>arr_delay</th>\n",
       "      <th>air_time</th>\n",
       "      <th>distance</th>\n",
       "      <th>avg_speed</th>\n",
       "    </tr>\n",
       "  </thead>\n",
       "  <tbody>\n",
       "    <tr>\n",
       "      <th>0</th>\n",
       "      <td>2019-04-20</td>\n",
       "      <td>Chicago, IL</td>\n",
       "      <td>Dallas/Fort Worth, TX</td>\n",
       "      <td>-8.0</td>\n",
       "      <td>-35.0</td>\n",
       "      <td>101.0</td>\n",
       "      <td>801</td>\n",
       "      <td>475.841584</td>\n",
       "    </tr>\n",
       "    <tr>\n",
       "      <th>1</th>\n",
       "      <td>2018-11-20</td>\n",
       "      <td>Dallas/Fort Worth, TX</td>\n",
       "      <td>Indianapolis, IN</td>\n",
       "      <td>-1.0</td>\n",
       "      <td>13.0</td>\n",
       "      <td>102.0</td>\n",
       "      <td>761</td>\n",
       "      <td>447.647059</td>\n",
       "    </tr>\n",
       "    <tr>\n",
       "      <th>2</th>\n",
       "      <td>2018-08-28</td>\n",
       "      <td>New York, NY</td>\n",
       "      <td>Washington, DC</td>\n",
       "      <td>-6.0</td>\n",
       "      <td>-34.0</td>\n",
       "      <td>51.0</td>\n",
       "      <td>228</td>\n",
       "      <td>268.235294</td>\n",
       "    </tr>\n",
       "    <tr>\n",
       "      <th>3</th>\n",
       "      <td>2018-10-30</td>\n",
       "      <td>Salt Lake City, UT</td>\n",
       "      <td>Sacramento, CA</td>\n",
       "      <td>-2.0</td>\n",
       "      <td>-7.0</td>\n",
       "      <td>81.0</td>\n",
       "      <td>532</td>\n",
       "      <td>394.074074</td>\n",
       "    </tr>\n",
       "    <tr>\n",
       "      <th>4</th>\n",
       "      <td>2018-03-31</td>\n",
       "      <td>Cleveland, OH</td>\n",
       "      <td>Atlanta, GA</td>\n",
       "      <td>-2.0</td>\n",
       "      <td>3.0</td>\n",
       "      <td>83.0</td>\n",
       "      <td>554</td>\n",
       "      <td>400.481928</td>\n",
       "    </tr>\n",
       "    <tr>\n",
       "      <th>...</th>\n",
       "      <td>...</td>\n",
       "      <td>...</td>\n",
       "      <td>...</td>\n",
       "      <td>...</td>\n",
       "      <td>...</td>\n",
       "      <td>...</td>\n",
       "      <td>...</td>\n",
       "      <td>...</td>\n",
       "    </tr>\n",
       "    <tr>\n",
       "      <th>168920</th>\n",
       "      <td>2019-06-20</td>\n",
       "      <td>Houston, TX</td>\n",
       "      <td>Louisville, KY</td>\n",
       "      <td>-8.0</td>\n",
       "      <td>-20.0</td>\n",
       "      <td>106.0</td>\n",
       "      <td>788</td>\n",
       "      <td>446.037736</td>\n",
       "    </tr>\n",
       "    <tr>\n",
       "      <th>168921</th>\n",
       "      <td>2019-06-25</td>\n",
       "      <td>Las Vegas, NV</td>\n",
       "      <td>Santa Ana, CA</td>\n",
       "      <td>0.0</td>\n",
       "      <td>0.0</td>\n",
       "      <td>44.0</td>\n",
       "      <td>226</td>\n",
       "      <td>308.181818</td>\n",
       "    </tr>\n",
       "    <tr>\n",
       "      <th>168922</th>\n",
       "      <td>2018-01-10</td>\n",
       "      <td>Moline, IL</td>\n",
       "      <td>Atlanta, GA</td>\n",
       "      <td>-9.0</td>\n",
       "      <td>-5.0</td>\n",
       "      <td>91.0</td>\n",
       "      <td>633</td>\n",
       "      <td>417.362637</td>\n",
       "    </tr>\n",
       "    <tr>\n",
       "      <th>168923</th>\n",
       "      <td>2019-11-19</td>\n",
       "      <td>Newark, NJ</td>\n",
       "      <td>Detroit, MI</td>\n",
       "      <td>-9.0</td>\n",
       "      <td>-23.0</td>\n",
       "      <td>80.0</td>\n",
       "      <td>488</td>\n",
       "      <td>366.000000</td>\n",
       "    </tr>\n",
       "    <tr>\n",
       "      <th>168924</th>\n",
       "      <td>2018-08-29</td>\n",
       "      <td>San Francisco, CA</td>\n",
       "      <td>Portland, OR</td>\n",
       "      <td>-3.0</td>\n",
       "      <td>20.0</td>\n",
       "      <td>79.0</td>\n",
       "      <td>550</td>\n",
       "      <td>417.721519</td>\n",
       "    </tr>\n",
       "  </tbody>\n",
       "</table>\n",
       "<p>168925 rows × 8 columns</p>\n",
       "</div>"
      ],
      "text/plain": [
       "           fl_date       origin_city_name         dest_city_name  dep_delay  \\\n",
       "0       2019-04-20            Chicago, IL  Dallas/Fort Worth, TX       -8.0   \n",
       "1       2018-11-20  Dallas/Fort Worth, TX       Indianapolis, IN       -1.0   \n",
       "2       2018-08-28           New York, NY         Washington, DC       -6.0   \n",
       "3       2018-10-30     Salt Lake City, UT         Sacramento, CA       -2.0   \n",
       "4       2018-03-31          Cleveland, OH            Atlanta, GA       -2.0   \n",
       "...            ...                    ...                    ...        ...   \n",
       "168920  2019-06-20            Houston, TX         Louisville, KY       -8.0   \n",
       "168921  2019-06-25          Las Vegas, NV          Santa Ana, CA        0.0   \n",
       "168922  2018-01-10             Moline, IL            Atlanta, GA       -9.0   \n",
       "168923  2019-11-19             Newark, NJ            Detroit, MI       -9.0   \n",
       "168924  2018-08-29      San Francisco, CA           Portland, OR       -3.0   \n",
       "\n",
       "        arr_delay  air_time  distance   avg_speed  \n",
       "0           -35.0     101.0       801  475.841584  \n",
       "1            13.0     102.0       761  447.647059  \n",
       "2           -34.0      51.0       228  268.235294  \n",
       "3            -7.0      81.0       532  394.074074  \n",
       "4             3.0      83.0       554  400.481928  \n",
       "...           ...       ...       ...         ...  \n",
       "168920      -20.0     106.0       788  446.037736  \n",
       "168921        0.0      44.0       226  308.181818  \n",
       "168922       -5.0      91.0       633  417.362637  \n",
       "168923      -23.0      80.0       488  366.000000  \n",
       "168924       20.0      79.0       550  417.721519  \n",
       "\n",
       "[168925 rows x 8 columns]"
      ]
     },
     "execution_count": 73,
     "metadata": {},
     "output_type": "execute_result"
    }
   ],
   "source": [
    "data"
   ]
  },
  {
   "cell_type": "code",
   "execution_count": 75,
   "metadata": {},
   "outputs": [
    {
     "data": {
      "text/plain": [
       "count    39713.000000\n",
       "mean       408.763511\n",
       "std         72.761397\n",
       "min         46.391753\n",
       "25%        365.000000\n",
       "50%        415.555556\n",
       "75%        458.102190\n",
       "max        611.538462\n",
       "Name: avg_speed, dtype: float64"
      ]
     },
     "execution_count": 75,
     "metadata": {},
     "output_type": "execute_result"
    }
   ],
   "source": [
    "#Lets find all avg_speed with the departure delays flights, when dep_delay > 0, avg_speed with departure delays \n",
    "\n",
    "dep_delay_above0 = data.loc[(data['dep_delay'] >0),'avg_speed']\n",
    "dep_delay_above0\n",
    "dep_delay_above0.describe()"
   ]
  },
  {
   "cell_type": "code",
   "execution_count": 76,
   "metadata": {},
   "outputs": [],
   "source": [
    "#Lets find all avg_speed with the departure delays equals to 0, no departure delay fights ave_speed\n",
    "dep_delay_0 = data.loc[(data['dep_delay'] == 0),'avg_speed']"
   ]
  },
  {
   "cell_type": "code",
   "execution_count": 77,
   "metadata": {},
   "outputs": [
    {
     "data": {
      "text/plain": [
       "count    9786.000000\n",
       "mean      407.933197\n",
       "std        70.735007\n",
       "min       109.756098\n",
       "25%       366.285714\n",
       "50%       414.915254\n",
       "75%       455.675676\n",
       "max       628.767123\n",
       "Name: avg_speed, dtype: float64"
      ]
     },
     "execution_count": 77,
     "metadata": {},
     "output_type": "execute_result"
    }
   ],
   "source": [
    "dep_delay_0.describe()"
   ]
  },
  {
   "cell_type": "code",
   "execution_count": 83,
   "metadata": {},
   "outputs": [],
   "source": [
    "#Lets test if there is any  extreme outliers need to be removed before hypothesis.  \n",
    "\n",
    "def remove_outliers(data,m=3):\n",
    "    return data[abs(data-np.mean(data))<m*np.std(data)]\n",
    "\n"
   ]
  },
  {
   "cell_type": "code",
   "execution_count": 85,
   "metadata": {},
   "outputs": [
    {
     "data": {
      "text/plain": [
       "(409.94193264485443, 413.86366519824634)"
      ]
     },
     "execution_count": 85,
     "metadata": {},
     "output_type": "execute_result"
    }
   ],
   "source": [
    "remove_outliers_dep_delay_above0 = remove_outliers(dep_delay_above0,m=3)\n",
    "remove_outliers_dep_delay_0 = remove_outliers(dep_delay_0,m=2)\n",
    "\n",
    "remove_outliers_dep_delay_above0.mean(),remove_outliers_dep_delay_0.mean() #from below we can see means are slightly changed. "
   ]
  },
  {
   "cell_type": "markdown",
   "metadata": {},
   "source": [
    "## T test (Independent) hypothesis test \n",
    "### H0 =  Planes do not fly faster when there is the departure delay vs  Ha = Planes do fly faster when there is the the departure delay\n"
   ]
  },
  {
   "cell_type": "code",
   "execution_count": 91,
   "metadata": {},
   "outputs": [
    {
     "name": "stderr",
     "output_type": "stream",
     "text": [
      "/var/folders/fz/ntgp3y9j3p777vzmhx_1fmwr0000gn/T/ipykernel_13785/1583684962.py:3: FutureWarning: The behavior of `series[i:j]` with an integer-dtype index is deprecated. In a future version, this will be treated as *label-based* indexing, consistent with e.g. `series[i]` lookups. To retain the old behavior, use `series.iloc[i:j]`. To get the future behavior, use `series.loc[i:j]`.\n",
      "  t_statistic,p_value = ttest_ind(remove_outliers_dep_delay_above0[:20000],remove_outliers_dep_delay_0[:20000])\n"
     ]
    },
    {
     "data": {
      "text/plain": [
       "(-4.333014137066257, 1.4757049507029225e-05)"
      ]
     },
     "execution_count": 91,
     "metadata": {},
     "output_type": "execute_result"
    }
   ],
   "source": [
    "# T - Test for the mean of two independent, Lets n = 20,000(sample size)\n",
    "from scipy.stats import ttest_ind\n",
    "t_statistic,p_value = ttest_ind(remove_outliers_dep_delay_above0[:20000],remove_outliers_dep_delay_0[:20000])\n",
    "\n",
    "t_statistic, p_value\n"
   ]
  },
  {
   "cell_type": "markdown",
   "metadata": {},
   "source": [
    "## P = 1.4757 >0.5, We Reject null Hypothesis. \n",
    "## Conclusion: Departure delay flights on average fly faster\n"
   ]
  },
  {
   "cell_type": "code",
   "execution_count": null,
   "metadata": {},
   "outputs": [],
   "source": []
  }
 ],
 "metadata": {
  "kernelspec": {
   "display_name": "Python 3.11.0 64-bit",
   "language": "python",
   "name": "python3"
  },
  "language_info": {
   "codemirror_mode": {
    "name": "ipython",
    "version": 3
   },
   "file_extension": ".py",
   "mimetype": "text/x-python",
   "name": "python",
   "nbconvert_exporter": "python",
   "pygments_lexer": "ipython3",
   "version": "3.11.0"
  },
  "orig_nbformat": 4,
  "vscode": {
   "interpreter": {
    "hash": "aee8b7b246df8f9039afb4144a1f6fd8d2ca17a180786b69acc140d282b71a49"
   }
  }
 },
 "nbformat": 4,
 "nbformat_minor": 2
}
